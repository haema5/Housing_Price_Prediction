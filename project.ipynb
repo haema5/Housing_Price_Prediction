{
 "cells": [
  {
   "cell_type": "code",
   "execution_count": 1,
   "metadata": {},
   "outputs": [],
   "source": [
    "import numpy as np\n",
    "import pandas as pd\n",
    "\n",
    "from sklearn.ensemble import RandomForestClassifier, RandomForestRegressor\n",
    "from sklearn.linear_model import LinearRegression\n",
    "from sklearn.metrics import r2_score, mean_squared_error\n",
    "from sklearn.model_selection import GridSearchCV, train_test_split\n",
    "\n",
    "from sklearn.preprocessing import Imputer\n",
    "from sklearn.impute import SimpleImputer"
   ]
  },
  {
   "cell_type": "markdown",
   "metadata": {},
   "source": [
    "## Загрузка данных"
   ]
  },
  {
   "cell_type": "code",
   "execution_count": 2,
   "metadata": {},
   "outputs": [
    {
     "data": {
      "text/plain": [
       "(10000, 20)"
      ]
     },
     "execution_count": 2,
     "metadata": {},
     "output_type": "execute_result"
    }
   ],
   "source": [
    "data = pd.read_csv('data/train.csv')\n",
    "data.shape"
   ]
  },
  {
   "cell_type": "code",
   "execution_count": 3,
   "metadata": {},
   "outputs": [],
   "source": [
    "dif_mean = (data['Square'] - data['LifeSquare']).mean()"
   ]
  },
  {
   "cell_type": "code",
   "execution_count": 4,
   "metadata": {},
   "outputs": [
    {
     "name": "stdout",
     "output_type": "stream",
     "text": [
      "<class 'pandas.core.frame.DataFrame'>\n",
      "Int64Index: 7576 entries, 0 to 9999\n",
      "Data columns (total 23 columns):\n",
      "Id               7576 non-null int64\n",
      "DistrictId       7576 non-null int64\n",
      "Rooms            7576 non-null float64\n",
      "Square           7576 non-null float64\n",
      "LifeSquare       7576 non-null float64\n",
      "KitchenSquare    7576 non-null float64\n",
      "Floor            7576 non-null int64\n",
      "HouseFloor       7576 non-null float64\n",
      "HouseYear        7576 non-null int64\n",
      "Ecology_1        7576 non-null float64\n",
      "Social_1         7576 non-null int64\n",
      "Social_2         7576 non-null int64\n",
      "Social_3         7576 non-null int64\n",
      "Healthcare_1     4301 non-null float64\n",
      "Helthcare_2      7576 non-null int64\n",
      "Shops_1          7576 non-null int64\n",
      "Price            7576 non-null float64\n",
      "Ecology_2_A      7576 non-null uint8\n",
      "Ecology_2_B      7576 non-null uint8\n",
      "Ecology_3_A      7576 non-null uint8\n",
      "Ecology_3_B      7576 non-null uint8\n",
      "Shops_2_A        7576 non-null uint8\n",
      "Shops_2_B        7576 non-null uint8\n",
      "dtypes: float64(8), int64(9), uint8(6)\n",
      "memory usage: 1.1 MB\n"
     ]
    }
   ],
   "source": [
    "data.loc[data['Square'] < data['LifeSquare'], 'LifeSquare'] = data['Square'] - dif_mean\n",
    "data = data.loc[data['Rooms'].between(1, 9), :]\n",
    "data = data.loc[(data['Square'] > 15) & (data['LifeSquare'] > 15), :]\n",
    "data = data.loc[data['Price'].between(30000, 600000), :]\n",
    "data = data.loc[data['HouseYear'] < 2020, :]\n",
    "\n",
    "data = pd.get_dummies(data)\n",
    "data.info()"
   ]
  },
  {
   "cell_type": "code",
   "execution_count": 5,
   "metadata": {},
   "outputs": [
    {
     "data": {
      "text/plain": [
       "((6060, 23), (1516, 23))"
      ]
     },
     "execution_count": 5,
     "metadata": {},
     "output_type": "execute_result"
    }
   ],
   "source": [
    "train, valid = train_test_split(data, test_size=0.2, random_state=42)\n",
    "train.shape, valid.shape"
   ]
  },
  {
   "cell_type": "code",
   "execution_count": 6,
   "metadata": {},
   "outputs": [
    {
     "data": {
      "text/plain": [
       "['Rooms',\n",
       " 'Square',\n",
       " 'LifeSquare',\n",
       " 'KitchenSquare',\n",
       " 'Floor',\n",
       " 'HouseFloor',\n",
       " 'HouseYear',\n",
       " 'Ecology_1',\n",
       " 'Social_1',\n",
       " 'Social_2',\n",
       " 'Social_3',\n",
       " 'Helthcare_2',\n",
       " 'Shops_1',\n",
       " 'Ecology_2_A',\n",
       " 'Ecology_2_B',\n",
       " 'Ecology_3_A',\n",
       " 'Ecology_3_B',\n",
       " 'Shops_2_A',\n",
       " 'Shops_2_B']"
      ]
     },
     "execution_count": 6,
     "metadata": {},
     "output_type": "execute_result"
    }
   ],
   "source": [
    "features = list(data.columns.values)\n",
    "ex_col = ['Id', 'DistrictId', 'Price', 'Healthcare_1']\n",
    "features = [i for i in features if not(i in ex_col)]\n",
    "features"
   ]
  },
  {
   "cell_type": "code",
   "execution_count": 7,
   "metadata": {},
   "outputs": [
    {
     "data": {
      "text/plain": [
       "0.47282999359032896"
      ]
     },
     "execution_count": 7,
     "metadata": {},
     "output_type": "execute_result"
    }
   ],
   "source": [
    "lr = LinearRegression()\n",
    "lr.fit(train.loc[:, features], train['Price'])\n",
    "pred_lr = lr.predict(train.loc[:, features])\n",
    "r2_score(train['Price'], pred_lr)"
   ]
  },
  {
   "cell_type": "code",
   "execution_count": 8,
   "metadata": {},
   "outputs": [
    {
     "data": {
      "text/plain": [
       "0.4756060325551753"
      ]
     },
     "execution_count": 8,
     "metadata": {},
     "output_type": "execute_result"
    }
   ],
   "source": [
    "pred_lr_valid = lr.predict(valid.loc[:, features])\n",
    "r2_score(valid['Price'], pred_lr_valid)"
   ]
  },
  {
   "cell_type": "code",
   "execution_count": 9,
   "metadata": {},
   "outputs": [
    {
     "data": {
      "text/plain": [
       "0.8707835613684645"
      ]
     },
     "execution_count": 9,
     "metadata": {},
     "output_type": "execute_result"
    }
   ],
   "source": [
    "RFR = RandomForestRegressor(n_estimators=20, \n",
    "                            max_depth=12, \n",
    "                            random_state=42,\n",
    "                            min_samples_leaf=2)\n",
    "RFR.fit(train.loc[:, features], train['Price'])\n",
    "pred_RFR = RFR.predict(train.loc[:, features])\n",
    "r2_score(train['Price'], pred_RFR)"
   ]
  },
  {
   "cell_type": "code",
   "execution_count": 10,
   "metadata": {},
   "outputs": [
    {
     "data": {
      "text/plain": [
       "0.6731205418108978"
      ]
     },
     "execution_count": 10,
     "metadata": {},
     "output_type": "execute_result"
    }
   ],
   "source": [
    "pred_RFR_valid = RFR.predict(valid.loc[:, features])\n",
    "r2_score(valid['Price'], pred_RFR_valid)"
   ]
  },
  {
   "cell_type": "markdown",
   "metadata": {},
   "source": [
    "# Предсказание на тесте"
   ]
  },
  {
   "cell_type": "code",
   "execution_count": 11,
   "metadata": {},
   "outputs": [
    {
     "data": {
      "text/plain": [
       "(5000, 19)"
      ]
     },
     "execution_count": 11,
     "metadata": {},
     "output_type": "execute_result"
    }
   ],
   "source": [
    "test = pd.read_csv('data/test.csv')\n",
    "test.shape"
   ]
  },
  {
   "cell_type": "code",
   "execution_count": 12,
   "metadata": {},
   "outputs": [
    {
     "data": {
      "text/plain": [
       "(5000, 22)"
      ]
     },
     "execution_count": 12,
     "metadata": {},
     "output_type": "execute_result"
    }
   ],
   "source": [
    "test = pd.get_dummies(test)\n",
    "test.shape"
   ]
  },
  {
   "cell_type": "code",
   "execution_count": 13,
   "metadata": {},
   "outputs": [
    {
     "name": "stdout",
     "output_type": "stream",
     "text": [
      "<class 'pandas.core.frame.DataFrame'>\n",
      "RangeIndex: 5000 entries, 0 to 4999\n",
      "Data columns (total 22 columns):\n",
      "Id               5000 non-null int64\n",
      "DistrictId       5000 non-null int64\n",
      "Rooms            5000 non-null float64\n",
      "Square           5000 non-null float64\n",
      "LifeSquare       3959 non-null float64\n",
      "KitchenSquare    5000 non-null float64\n",
      "Floor            5000 non-null int64\n",
      "HouseFloor       5000 non-null float64\n",
      "HouseYear        5000 non-null int64\n",
      "Ecology_1        5000 non-null float64\n",
      "Social_1         5000 non-null int64\n",
      "Social_2         5000 non-null int64\n",
      "Social_3         5000 non-null int64\n",
      "Healthcare_1     2623 non-null float64\n",
      "Helthcare_2      5000 non-null int64\n",
      "Shops_1          5000 non-null int64\n",
      "Ecology_2_A      5000 non-null uint8\n",
      "Ecology_2_B      5000 non-null uint8\n",
      "Ecology_3_A      5000 non-null uint8\n",
      "Ecology_3_B      5000 non-null uint8\n",
      "Shops_2_A        5000 non-null uint8\n",
      "Shops_2_B        5000 non-null uint8\n",
      "dtypes: float64(7), int64(9), uint8(6)\n",
      "memory usage: 654.4 KB\n"
     ]
    }
   ],
   "source": [
    "test.info()"
   ]
  },
  {
   "cell_type": "code",
   "execution_count": 14,
   "metadata": {},
   "outputs": [
    {
     "name": "stdout",
     "output_type": "stream",
     "text": [
      "<class 'pandas.core.frame.DataFrame'>\n",
      "RangeIndex: 5000 entries, 0 to 4999\n",
      "Data columns (total 22 columns):\n",
      "Id               5000 non-null int64\n",
      "DistrictId       5000 non-null int64\n",
      "Rooms            5000 non-null float64\n",
      "Square           5000 non-null float64\n",
      "LifeSquare       5000 non-null float64\n",
      "KitchenSquare    5000 non-null float64\n",
      "Floor            5000 non-null int64\n",
      "HouseFloor       5000 non-null float64\n",
      "HouseYear        5000 non-null int64\n",
      "Ecology_1        5000 non-null float64\n",
      "Social_1         5000 non-null int64\n",
      "Social_2         5000 non-null int64\n",
      "Social_3         5000 non-null int64\n",
      "Healthcare_1     5000 non-null float64\n",
      "Helthcare_2      5000 non-null int64\n",
      "Shops_1          5000 non-null int64\n",
      "Ecology_2_A      5000 non-null uint8\n",
      "Ecology_2_B      5000 non-null uint8\n",
      "Ecology_3_A      5000 non-null uint8\n",
      "Ecology_3_B      5000 non-null uint8\n",
      "Shops_2_A        5000 non-null uint8\n",
      "Shops_2_B        5000 non-null uint8\n",
      "dtypes: float64(7), int64(9), uint8(6)\n",
      "memory usage: 654.4 KB\n"
     ]
    }
   ],
   "source": [
    "test = test.fillna(0)\n",
    "test.loc[test['LifeSquare'] == 0, 'LifeSquare'] = test['Square'] - dif_mean\n",
    "test.info()"
   ]
  },
  {
   "cell_type": "code",
   "execution_count": 15,
   "metadata": {},
   "outputs": [
    {
     "data": {
      "text/plain": [
       "array([193565.31954557, 194532.19813994, 183215.84659636, ...,\n",
       "       380894.93142481, 186492.80730833, 309339.5752478 ])"
      ]
     },
     "execution_count": 15,
     "metadata": {},
     "output_type": "execute_result"
    }
   ],
   "source": [
    "pred_test = lr.predict(test.loc[:, features])\n",
    "pred_test"
   ]
  }
 ],
 "metadata": {
  "kernelspec": {
   "display_name": "Python 3",
   "language": "python",
   "name": "python3"
  },
  "language_info": {
   "codemirror_mode": {
    "name": "ipython",
    "version": 3
   },
   "file_extension": ".py",
   "mimetype": "text/x-python",
   "name": "python",
   "nbconvert_exporter": "python",
   "pygments_lexer": "ipython3",
   "version": "3.7.1"
  }
 },
 "nbformat": 4,
 "nbformat_minor": 2
}
