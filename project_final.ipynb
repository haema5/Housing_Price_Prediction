{
 "cells": [
  {
   "cell_type": "code",
   "execution_count": 1,
   "metadata": {},
   "outputs": [],
   "source": [
    "import numpy as np\n",
    "import pandas as pd\n",
    "\n",
    "from sklearn.ensemble import RandomForestRegressor\n",
    "from sklearn.linear_model import LinearRegression\n",
    "from sklearn.metrics import r2_score\n",
    "from sklearn.model_selection import GridSearchCV, train_test_split\n",
    "\n",
    "import warnings\n",
    "warnings.filterwarnings('ignore')"
   ]
  },
  {
   "cell_type": "code",
   "execution_count": 2,
   "metadata": {},
   "outputs": [
    {
     "data": {
      "text/plain": [
       "(10000, 20)"
      ]
     },
     "execution_count": 2,
     "metadata": {},
     "output_type": "execute_result"
    }
   ],
   "source": [
    "data = pd.read_csv('data/train.csv')\n",
    "data.shape"
   ]
  },
  {
   "cell_type": "code",
   "execution_count": 3,
   "metadata": {},
   "outputs": [
    {
     "name": "stdout",
     "output_type": "stream",
     "text": [
      "<class 'pandas.core.frame.DataFrame'>\n",
      "RangeIndex: 10000 entries, 0 to 9999\n",
      "Data columns (total 20 columns):\n",
      "Id               10000 non-null int64\n",
      "DistrictId       10000 non-null int64\n",
      "Rooms            10000 non-null float64\n",
      "Square           10000 non-null float64\n",
      "LifeSquare       7887 non-null float64\n",
      "KitchenSquare    10000 non-null float64\n",
      "Floor            10000 non-null int64\n",
      "HouseFloor       10000 non-null float64\n",
      "HouseYear        10000 non-null int64\n",
      "Ecology_1        10000 non-null float64\n",
      "Ecology_2        10000 non-null object\n",
      "Ecology_3        10000 non-null object\n",
      "Social_1         10000 non-null int64\n",
      "Social_2         10000 non-null int64\n",
      "Social_3         10000 non-null int64\n",
      "Healthcare_1     5202 non-null float64\n",
      "Helthcare_2      10000 non-null int64\n",
      "Shops_1          10000 non-null int64\n",
      "Shops_2          10000 non-null object\n",
      "Price            10000 non-null float64\n",
      "dtypes: float64(8), int64(9), object(3)\n",
      "memory usage: 1.5+ MB\n"
     ]
    }
   ],
   "source": [
    "data.info()"
   ]
  },
  {
   "cell_type": "code",
   "execution_count": 4,
   "metadata": {},
   "outputs": [
    {
     "name": "stdout",
     "output_type": "stream",
     "text": [
      "<class 'pandas.core.frame.DataFrame'>\n",
      "RangeIndex: 10000 entries, 0 to 9999\n",
      "Data columns (total 23 columns):\n",
      "Id               10000 non-null int64\n",
      "DistrictId       10000 non-null int64\n",
      "Rooms            10000 non-null float64\n",
      "Square           10000 non-null float64\n",
      "LifeSquare       10000 non-null float64\n",
      "KitchenSquare    10000 non-null float64\n",
      "Floor            10000 non-null int64\n",
      "HouseFloor       10000 non-null float64\n",
      "HouseYear        10000 non-null int64\n",
      "Ecology_1        10000 non-null float64\n",
      "Social_1         10000 non-null int64\n",
      "Social_2         10000 non-null int64\n",
      "Social_3         10000 non-null int64\n",
      "Healthcare_1     5202 non-null float64\n",
      "Helthcare_2      10000 non-null int64\n",
      "Shops_1          10000 non-null int64\n",
      "Price            10000 non-null float64\n",
      "Ecology_2_A      10000 non-null uint8\n",
      "Ecology_2_B      10000 non-null uint8\n",
      "Ecology_3_A      10000 non-null uint8\n",
      "Ecology_3_B      10000 non-null uint8\n",
      "Shops_2_A        10000 non-null uint8\n",
      "Shops_2_B        10000 non-null uint8\n",
      "dtypes: float64(8), int64(9), uint8(6)\n",
      "memory usage: 1.4 MB\n"
     ]
    }
   ],
   "source": [
    "data['LifeSquare'] = data['LifeSquare'].fillna(0)\n",
    "data = pd.get_dummies(data)\n",
    "data.info()"
   ]
  },
  {
   "cell_type": "code",
   "execution_count": 5,
   "metadata": {},
   "outputs": [],
   "source": [
    "x_year = 1930\n",
    "data['OldHouse'] = (data['HouseYear'] <= x_year).astype(int)"
   ]
  },
  {
   "cell_type": "code",
   "execution_count": 6,
   "metadata": {},
   "outputs": [
    {
     "data": {
      "text/plain": [
       "((7000, 24), (3000, 24))"
      ]
     },
     "execution_count": 6,
     "metadata": {},
     "output_type": "execute_result"
    }
   ],
   "source": [
    "train, valid = train_test_split(data, test_size=0.3, random_state=42)\n",
    "train.shape, valid.shape"
   ]
  },
  {
   "cell_type": "markdown",
   "metadata": {},
   "source": [
    "## train"
   ]
  },
  {
   "cell_type": "code",
   "execution_count": 7,
   "metadata": {},
   "outputs": [],
   "source": [
    "k = train.loc[(train.LifeSquare > 10), 'LifeSquare'].mean() / train.loc[(train.LifeSquare > 10), 'Square'].mean()"
   ]
  },
  {
   "cell_type": "code",
   "execution_count": 8,
   "metadata": {},
   "outputs": [],
   "source": [
    "train.loc[(train.LifeSquare < 10), 'LifeSquare'] = \\\n",
    "train.loc[(train.LifeSquare < 10), 'Square'] * k"
   ]
  },
  {
   "cell_type": "code",
   "execution_count": 9,
   "metadata": {},
   "outputs": [],
   "source": [
    "train = train.loc[(train.LifeSquare > 10), :]"
   ]
  },
  {
   "cell_type": "code",
   "execution_count": 10,
   "metadata": {},
   "outputs": [],
   "source": [
    "train.loc[(train.Square - train.LifeSquare) < 10, 'LifeSquare'] = \\\n",
    "train.loc[(train.Square - train.LifeSquare) < 10, 'Square'] * k"
   ]
  },
  {
   "cell_type": "code",
   "execution_count": 11,
   "metadata": {},
   "outputs": [
    {
     "data": {
      "text/html": [
       "<div>\n",
       "<style scoped>\n",
       "    .dataframe tbody tr th:only-of-type {\n",
       "        vertical-align: middle;\n",
       "    }\n",
       "\n",
       "    .dataframe tbody tr th {\n",
       "        vertical-align: top;\n",
       "    }\n",
       "\n",
       "    .dataframe thead th {\n",
       "        text-align: right;\n",
       "    }\n",
       "</style>\n",
       "<table border=\"1\" class=\"dataframe\">\n",
       "  <thead>\n",
       "    <tr style=\"text-align: right;\">\n",
       "      <th></th>\n",
       "      <th>Id</th>\n",
       "      <th>DistrictId</th>\n",
       "      <th>Rooms</th>\n",
       "      <th>Square</th>\n",
       "      <th>LifeSquare</th>\n",
       "      <th>KitchenSquare</th>\n",
       "      <th>Floor</th>\n",
       "      <th>HouseFloor</th>\n",
       "      <th>HouseYear</th>\n",
       "      <th>Ecology_1</th>\n",
       "      <th>...</th>\n",
       "      <th>Helthcare_2</th>\n",
       "      <th>Shops_1</th>\n",
       "      <th>Price</th>\n",
       "      <th>Ecology_2_A</th>\n",
       "      <th>Ecology_2_B</th>\n",
       "      <th>Ecology_3_A</th>\n",
       "      <th>Ecology_3_B</th>\n",
       "      <th>Shops_2_A</th>\n",
       "      <th>Shops_2_B</th>\n",
       "      <th>OldHouse</th>\n",
       "    </tr>\n",
       "  </thead>\n",
       "  <tbody>\n",
       "    <tr>\n",
       "      <th>4366</th>\n",
       "      <td>456</td>\n",
       "      <td>6</td>\n",
       "      <td>0.0</td>\n",
       "      <td>81.491446</td>\n",
       "      <td>56.702503</td>\n",
       "      <td>0.0</td>\n",
       "      <td>4</td>\n",
       "      <td>0.0</td>\n",
       "      <td>1977</td>\n",
       "      <td>0.243205</td>\n",
       "      <td>...</td>\n",
       "      <td>0</td>\n",
       "      <td>0</td>\n",
       "      <td>212864.799112</td>\n",
       "      <td>0</td>\n",
       "      <td>1</td>\n",
       "      <td>0</td>\n",
       "      <td>1</td>\n",
       "      <td>0</td>\n",
       "      <td>1</td>\n",
       "      <td>0</td>\n",
       "    </tr>\n",
       "    <tr>\n",
       "      <th>1397</th>\n",
       "      <td>12638</td>\n",
       "      <td>27</td>\n",
       "      <td>0.0</td>\n",
       "      <td>138.427694</td>\n",
       "      <td>96.319271</td>\n",
       "      <td>0.0</td>\n",
       "      <td>4</td>\n",
       "      <td>3.0</td>\n",
       "      <td>2016</td>\n",
       "      <td>0.075424</td>\n",
       "      <td>...</td>\n",
       "      <td>0</td>\n",
       "      <td>0</td>\n",
       "      <td>268394.744389</td>\n",
       "      <td>0</td>\n",
       "      <td>1</td>\n",
       "      <td>0</td>\n",
       "      <td>1</td>\n",
       "      <td>0</td>\n",
       "      <td>1</td>\n",
       "      <td>0</td>\n",
       "    </tr>\n",
       "    <tr>\n",
       "      <th>2269</th>\n",
       "      <td>7317</td>\n",
       "      <td>27</td>\n",
       "      <td>0.0</td>\n",
       "      <td>41.790881</td>\n",
       "      <td>29.078482</td>\n",
       "      <td>0.0</td>\n",
       "      <td>13</td>\n",
       "      <td>0.0</td>\n",
       "      <td>1977</td>\n",
       "      <td>0.211401</td>\n",
       "      <td>...</td>\n",
       "      <td>0</td>\n",
       "      <td>1</td>\n",
       "      <td>98129.976788</td>\n",
       "      <td>0</td>\n",
       "      <td>1</td>\n",
       "      <td>0</td>\n",
       "      <td>1</td>\n",
       "      <td>0</td>\n",
       "      <td>1</td>\n",
       "      <td>0</td>\n",
       "    </tr>\n",
       "    <tr>\n",
       "      <th>3911</th>\n",
       "      <td>770</td>\n",
       "      <td>28</td>\n",
       "      <td>0.0</td>\n",
       "      <td>49.483501</td>\n",
       "      <td>34.431078</td>\n",
       "      <td>0.0</td>\n",
       "      <td>16</td>\n",
       "      <td>0.0</td>\n",
       "      <td>2015</td>\n",
       "      <td>0.118537</td>\n",
       "      <td>...</td>\n",
       "      <td>1</td>\n",
       "      <td>0</td>\n",
       "      <td>217009.338463</td>\n",
       "      <td>0</td>\n",
       "      <td>1</td>\n",
       "      <td>0</td>\n",
       "      <td>1</td>\n",
       "      <td>0</td>\n",
       "      <td>1</td>\n",
       "      <td>0</td>\n",
       "    </tr>\n",
       "  </tbody>\n",
       "</table>\n",
       "<p>4 rows × 24 columns</p>\n",
       "</div>"
      ],
      "text/plain": [
       "         Id  DistrictId  Rooms      Square  LifeSquare  KitchenSquare  Floor  \\\n",
       "4366    456           6    0.0   81.491446   56.702503            0.0      4   \n",
       "1397  12638          27    0.0  138.427694   96.319271            0.0      4   \n",
       "2269   7317          27    0.0   41.790881   29.078482            0.0     13   \n",
       "3911    770          28    0.0   49.483501   34.431078            0.0     16   \n",
       "\n",
       "      HouseFloor  HouseYear  Ecology_1  ...  Helthcare_2  Shops_1  \\\n",
       "4366         0.0       1977   0.243205  ...            0        0   \n",
       "1397         3.0       2016   0.075424  ...            0        0   \n",
       "2269         0.0       1977   0.211401  ...            0        1   \n",
       "3911         0.0       2015   0.118537  ...            1        0   \n",
       "\n",
       "              Price  Ecology_2_A  Ecology_2_B  Ecology_3_A  Ecology_3_B  \\\n",
       "4366  212864.799112            0            1            0            1   \n",
       "1397  268394.744389            0            1            0            1   \n",
       "2269   98129.976788            0            1            0            1   \n",
       "3911  217009.338463            0            1            0            1   \n",
       "\n",
       "      Shops_2_A  Shops_2_B  OldHouse  \n",
       "4366          0          1         0  \n",
       "1397          0          1         0  \n",
       "2269          0          1         0  \n",
       "3911          0          1         0  \n",
       "\n",
       "[4 rows x 24 columns]"
      ]
     },
     "execution_count": 11,
     "metadata": {},
     "output_type": "execute_result"
    }
   ],
   "source": [
    "train.loc[train['Rooms'] == 0, :]"
   ]
  },
  {
   "cell_type": "code",
   "execution_count": 12,
   "metadata": {},
   "outputs": [],
   "source": [
    "train.loc[train['Id'] == 456, 'Rooms'] = 3\n",
    "train.loc[train['Id'] == 12638, 'Rooms'] = 3\n",
    "train.loc[train['Id'] == 7317, 'Rooms'] = 2\n",
    "train.loc[train['Id'] == 770, 'Rooms'] = 2"
   ]
  },
  {
   "cell_type": "code",
   "execution_count": 13,
   "metadata": {},
   "outputs": [],
   "source": [
    "train['MeanRoomSquare'] = train.LifeSquare / train.Rooms"
   ]
  },
  {
   "cell_type": "code",
   "execution_count": 14,
   "metadata": {},
   "outputs": [],
   "source": [
    "train = train.loc[train['Rooms'] < 10, :]"
   ]
  },
  {
   "cell_type": "code",
   "execution_count": 15,
   "metadata": {},
   "outputs": [],
   "source": [
    "train = train.loc[train['Price'].between(30000, 600000), :]"
   ]
  },
  {
   "cell_type": "code",
   "execution_count": 16,
   "metadata": {},
   "outputs": [],
   "source": [
    "train.loc[(train['KitchenSquare'] > 30), 'KitchenSquare'] = train.loc[(train['KitchenSquare'] > 30), 'Square'] * 0.11"
   ]
  },
  {
   "cell_type": "code",
   "execution_count": 17,
   "metadata": {},
   "outputs": [],
   "source": [
    "train.loc[(train['KitchenSquare'] < 4), 'KitchenSquare'] = train.loc[(train['KitchenSquare'] < 4), 'Square'] * 0.11"
   ]
  },
  {
   "cell_type": "code",
   "execution_count": 18,
   "metadata": {},
   "outputs": [],
   "source": [
    "train.loc[(train['KitchenSquare'] > (train['Square'] - train['LifeSquare'])), 'LifeSquare'] = \\\n",
    "train.loc[(train['KitchenSquare'] > (train['Square'] - train['LifeSquare'])), 'Square'] * 0.11"
   ]
  },
  {
   "cell_type": "code",
   "execution_count": 19,
   "metadata": {},
   "outputs": [],
   "source": [
    "train = train.loc[(train['HouseYear'] < 2021), :]"
   ]
  },
  {
   "cell_type": "markdown",
   "metadata": {},
   "source": [
    "## valid"
   ]
  },
  {
   "cell_type": "code",
   "execution_count": 20,
   "metadata": {},
   "outputs": [],
   "source": [
    "valid.loc[(valid.LifeSquare < 10), 'LifeSquare'] = \\\n",
    "valid.loc[(valid.LifeSquare < 10), 'Square'] * k\n",
    "\n",
    "valid.loc[(valid.Square - valid.LifeSquare) < 10, 'LifeSquare'] = \\\n",
    "valid.loc[(valid.Square - valid.LifeSquare) < 10, 'Square'] * k"
   ]
  },
  {
   "cell_type": "code",
   "execution_count": 21,
   "metadata": {},
   "outputs": [
    {
     "data": {
      "text/html": [
       "<div>\n",
       "<style scoped>\n",
       "    .dataframe tbody tr th:only-of-type {\n",
       "        vertical-align: middle;\n",
       "    }\n",
       "\n",
       "    .dataframe tbody tr th {\n",
       "        vertical-align: top;\n",
       "    }\n",
       "\n",
       "    .dataframe thead th {\n",
       "        text-align: right;\n",
       "    }\n",
       "</style>\n",
       "<table border=\"1\" class=\"dataframe\">\n",
       "  <thead>\n",
       "    <tr style=\"text-align: right;\">\n",
       "      <th></th>\n",
       "      <th>Id</th>\n",
       "      <th>DistrictId</th>\n",
       "      <th>Rooms</th>\n",
       "      <th>Square</th>\n",
       "      <th>LifeSquare</th>\n",
       "      <th>KitchenSquare</th>\n",
       "      <th>Floor</th>\n",
       "      <th>HouseFloor</th>\n",
       "      <th>HouseYear</th>\n",
       "      <th>Ecology_1</th>\n",
       "      <th>...</th>\n",
       "      <th>Helthcare_2</th>\n",
       "      <th>Shops_1</th>\n",
       "      <th>Price</th>\n",
       "      <th>Ecology_2_A</th>\n",
       "      <th>Ecology_2_B</th>\n",
       "      <th>Ecology_3_A</th>\n",
       "      <th>Ecology_3_B</th>\n",
       "      <th>Shops_2_A</th>\n",
       "      <th>Shops_2_B</th>\n",
       "      <th>OldHouse</th>\n",
       "    </tr>\n",
       "  </thead>\n",
       "  <tbody>\n",
       "    <tr>\n",
       "      <th>6149</th>\n",
       "      <td>3159</td>\n",
       "      <td>88</td>\n",
       "      <td>0.0</td>\n",
       "      <td>38.697117</td>\n",
       "      <td>19.345131</td>\n",
       "      <td>9.0</td>\n",
       "      <td>9</td>\n",
       "      <td>16.0</td>\n",
       "      <td>1982</td>\n",
       "      <td>0.127376</td>\n",
       "      <td>...</td>\n",
       "      <td>3</td>\n",
       "      <td>9</td>\n",
       "      <td>158998.110646</td>\n",
       "      <td>0</td>\n",
       "      <td>1</td>\n",
       "      <td>0</td>\n",
       "      <td>1</td>\n",
       "      <td>0</td>\n",
       "      <td>1</td>\n",
       "      <td>0</td>\n",
       "    </tr>\n",
       "    <tr>\n",
       "      <th>8834</th>\n",
       "      <td>9443</td>\n",
       "      <td>27</td>\n",
       "      <td>0.0</td>\n",
       "      <td>87.762616</td>\n",
       "      <td>61.066040</td>\n",
       "      <td>0.0</td>\n",
       "      <td>5</td>\n",
       "      <td>15.0</td>\n",
       "      <td>1977</td>\n",
       "      <td>0.211401</td>\n",
       "      <td>...</td>\n",
       "      <td>0</td>\n",
       "      <td>1</td>\n",
       "      <td>219281.918007</td>\n",
       "      <td>0</td>\n",
       "      <td>1</td>\n",
       "      <td>0</td>\n",
       "      <td>1</td>\n",
       "      <td>0</td>\n",
       "      <td>1</td>\n",
       "      <td>0</td>\n",
       "    </tr>\n",
       "    <tr>\n",
       "      <th>1981</th>\n",
       "      <td>7917</td>\n",
       "      <td>27</td>\n",
       "      <td>0.0</td>\n",
       "      <td>212.932361</td>\n",
       "      <td>148.160307</td>\n",
       "      <td>0.0</td>\n",
       "      <td>2</td>\n",
       "      <td>3.0</td>\n",
       "      <td>2008</td>\n",
       "      <td>0.211401</td>\n",
       "      <td>...</td>\n",
       "      <td>0</td>\n",
       "      <td>1</td>\n",
       "      <td>302211.260887</td>\n",
       "      <td>0</td>\n",
       "      <td>1</td>\n",
       "      <td>0</td>\n",
       "      <td>1</td>\n",
       "      <td>0</td>\n",
       "      <td>1</td>\n",
       "      <td>0</td>\n",
       "    </tr>\n",
       "  </tbody>\n",
       "</table>\n",
       "<p>3 rows × 24 columns</p>\n",
       "</div>"
      ],
      "text/plain": [
       "        Id  DistrictId  Rooms      Square  LifeSquare  KitchenSquare  Floor  \\\n",
       "6149  3159          88    0.0   38.697117   19.345131            9.0      9   \n",
       "8834  9443          27    0.0   87.762616   61.066040            0.0      5   \n",
       "1981  7917          27    0.0  212.932361  148.160307            0.0      2   \n",
       "\n",
       "      HouseFloor  HouseYear  Ecology_1  ...  Helthcare_2  Shops_1  \\\n",
       "6149        16.0       1982   0.127376  ...            3        9   \n",
       "8834        15.0       1977   0.211401  ...            0        1   \n",
       "1981         3.0       2008   0.211401  ...            0        1   \n",
       "\n",
       "              Price  Ecology_2_A  Ecology_2_B  Ecology_3_A  Ecology_3_B  \\\n",
       "6149  158998.110646            0            1            0            1   \n",
       "8834  219281.918007            0            1            0            1   \n",
       "1981  302211.260887            0            1            0            1   \n",
       "\n",
       "      Shops_2_A  Shops_2_B  OldHouse  \n",
       "6149          0          1         0  \n",
       "8834          0          1         0  \n",
       "1981          0          1         0  \n",
       "\n",
       "[3 rows x 24 columns]"
      ]
     },
     "execution_count": 21,
     "metadata": {},
     "output_type": "execute_result"
    }
   ],
   "source": [
    "valid.loc[valid['Rooms'] == 0, :]"
   ]
  },
  {
   "cell_type": "code",
   "execution_count": 22,
   "metadata": {},
   "outputs": [],
   "source": [
    "valid.loc[valid['Id'] == 3159, 'Rooms'] = 2\n",
    "valid.loc[valid['Id'] == 9443, 'Rooms'] = 3\n",
    "valid.loc[valid['Id'] == 7917, 'Rooms'] = 3"
   ]
  },
  {
   "cell_type": "code",
   "execution_count": 23,
   "metadata": {},
   "outputs": [
    {
     "data": {
      "text/html": [
       "<div>\n",
       "<style scoped>\n",
       "    .dataframe tbody tr th:only-of-type {\n",
       "        vertical-align: middle;\n",
       "    }\n",
       "\n",
       "    .dataframe tbody tr th {\n",
       "        vertical-align: top;\n",
       "    }\n",
       "\n",
       "    .dataframe thead th {\n",
       "        text-align: right;\n",
       "    }\n",
       "</style>\n",
       "<table border=\"1\" class=\"dataframe\">\n",
       "  <thead>\n",
       "    <tr style=\"text-align: right;\">\n",
       "      <th></th>\n",
       "      <th>Id</th>\n",
       "      <th>DistrictId</th>\n",
       "      <th>Rooms</th>\n",
       "      <th>Square</th>\n",
       "      <th>LifeSquare</th>\n",
       "      <th>KitchenSquare</th>\n",
       "      <th>Floor</th>\n",
       "      <th>HouseFloor</th>\n",
       "      <th>HouseYear</th>\n",
       "      <th>Ecology_1</th>\n",
       "      <th>...</th>\n",
       "      <th>Helthcare_2</th>\n",
       "      <th>Shops_1</th>\n",
       "      <th>Price</th>\n",
       "      <th>Ecology_2_A</th>\n",
       "      <th>Ecology_2_B</th>\n",
       "      <th>Ecology_3_A</th>\n",
       "      <th>Ecology_3_B</th>\n",
       "      <th>Shops_2_A</th>\n",
       "      <th>Shops_2_B</th>\n",
       "      <th>OldHouse</th>\n",
       "    </tr>\n",
       "  </thead>\n",
       "  <tbody>\n",
       "    <tr>\n",
       "      <th>8849</th>\n",
       "      <td>14865</td>\n",
       "      <td>9</td>\n",
       "      <td>10.0</td>\n",
       "      <td>60.871266</td>\n",
       "      <td>38.420681</td>\n",
       "      <td>10.0</td>\n",
       "      <td>3</td>\n",
       "      <td>2.0</td>\n",
       "      <td>1994</td>\n",
       "      <td>0.161532</td>\n",
       "      <td>...</td>\n",
       "      <td>2</td>\n",
       "      <td>4</td>\n",
       "      <td>172329.270863</td>\n",
       "      <td>0</td>\n",
       "      <td>1</td>\n",
       "      <td>0</td>\n",
       "      <td>1</td>\n",
       "      <td>0</td>\n",
       "      <td>1</td>\n",
       "      <td>0</td>\n",
       "    </tr>\n",
       "  </tbody>\n",
       "</table>\n",
       "<p>1 rows × 24 columns</p>\n",
       "</div>"
      ],
      "text/plain": [
       "         Id  DistrictId  Rooms     Square  LifeSquare  KitchenSquare  Floor  \\\n",
       "8849  14865           9   10.0  60.871266   38.420681           10.0      3   \n",
       "\n",
       "      HouseFloor  HouseYear  Ecology_1  ...  Helthcare_2  Shops_1  \\\n",
       "8849         2.0       1994   0.161532  ...            2        4   \n",
       "\n",
       "              Price  Ecology_2_A  Ecology_2_B  Ecology_3_A  Ecology_3_B  \\\n",
       "8849  172329.270863            0            1            0            1   \n",
       "\n",
       "      Shops_2_A  Shops_2_B  OldHouse  \n",
       "8849          0          1         0  \n",
       "\n",
       "[1 rows x 24 columns]"
      ]
     },
     "execution_count": 23,
     "metadata": {},
     "output_type": "execute_result"
    }
   ],
   "source": [
    "valid.loc[valid['Rooms'] > 6, :]"
   ]
  },
  {
   "cell_type": "code",
   "execution_count": 24,
   "metadata": {},
   "outputs": [],
   "source": [
    "valid.loc[valid['Id'] == 14865, 'Rooms'] = 2"
   ]
  },
  {
   "cell_type": "code",
   "execution_count": 25,
   "metadata": {},
   "outputs": [],
   "source": [
    "valid['MeanRoomSquare'] = valid.LifeSquare / valid.Rooms"
   ]
  },
  {
   "cell_type": "code",
   "execution_count": 26,
   "metadata": {},
   "outputs": [],
   "source": [
    "valid.loc[(valid['KitchenSquare'] > 30), 'KitchenSquare'] = \\\n",
    "valid.loc[(valid['KitchenSquare'] > 30), 'Square'] * 0.11\n",
    "valid.loc[(valid['KitchenSquare'] < 4), 'KitchenSquare'] = \\\n",
    "valid.loc[(valid['KitchenSquare'] < 4), 'Square'] * 0.11\n",
    "\n",
    "valid.loc[(valid['KitchenSquare'] > (valid['Square'] - valid['LifeSquare'])), 'LifeSquare'] = \\\n",
    "valid.loc[(valid['KitchenSquare'] > (valid['Square'] - valid['LifeSquare'])), 'Square'] * 0.11"
   ]
  },
  {
   "cell_type": "markdown",
   "metadata": {},
   "source": [
    "## Receive features"
   ]
  },
  {
   "cell_type": "code",
   "execution_count": 27,
   "metadata": {},
   "outputs": [
    {
     "data": {
      "text/plain": [
       "['Rooms',\n",
       " 'Square',\n",
       " 'LifeSquare',\n",
       " 'KitchenSquare',\n",
       " 'Floor',\n",
       " 'HouseFloor',\n",
       " 'HouseYear',\n",
       " 'Ecology_1',\n",
       " 'Social_1',\n",
       " 'Social_2',\n",
       " 'Social_3',\n",
       " 'Helthcare_2',\n",
       " 'Shops_1',\n",
       " 'Ecology_2_A',\n",
       " 'Ecology_2_B',\n",
       " 'Ecology_3_A',\n",
       " 'Ecology_3_B',\n",
       " 'Shops_2_A',\n",
       " 'Shops_2_B',\n",
       " 'OldHouse',\n",
       " 'MeanRoomSquare']"
      ]
     },
     "execution_count": 27,
     "metadata": {},
     "output_type": "execute_result"
    }
   ],
   "source": [
    "features = list(train.columns.values)\n",
    "ex_col = ['Id', 'DistrictId', 'Price', 'Healthcare_1']\n",
    "features = [i for i in features if not(i in ex_col)]\n",
    "features"
   ]
  },
  {
   "cell_type": "markdown",
   "metadata": {},
   "source": [
    "## GridSearchCV"
   ]
  },
  {
   "cell_type": "code",
   "execution_count": 28,
   "metadata": {},
   "outputs": [],
   "source": [
    "param_grid = {\n",
    "    'bootstrap': [True, False],\n",
    "    'max_depth': range(13, 15, 1),\n",
    "    'max_features': range(2, 4, 1),\n",
    "    'min_samples_leaf': range(2, 3, 1),\n",
    "    'min_samples_split': range(2, 4, 2),\n",
    "    'n_estimators': range(80, 90, 5)\n",
    "}"
   ]
  },
  {
   "cell_type": "code",
   "execution_count": 29,
   "metadata": {},
   "outputs": [],
   "source": [
    "rf=RandomForestRegressor(random_state=42)\n",
    "grid_search=GridSearchCV(estimator=rf, param_grid=param_grid, \n",
    "                          cv=3, n_jobs=-1, verbose=2, scoring='r2')"
   ]
  },
  {
   "cell_type": "code",
   "execution_count": 30,
   "metadata": {},
   "outputs": [
    {
     "name": "stdout",
     "output_type": "stream",
     "text": [
      "Fitting 3 folds for each of 16 candidates, totalling 48 fits\n"
     ]
    },
    {
     "name": "stderr",
     "output_type": "stream",
     "text": [
      "[Parallel(n_jobs=-1)]: Using backend LokyBackend with 4 concurrent workers.\n",
      "[Parallel(n_jobs=-1)]: Done  33 tasks      | elapsed:    4.1s\n",
      "[Parallel(n_jobs=-1)]: Done  48 out of  48 | elapsed:    5.9s finished\n"
     ]
    },
    {
     "data": {
      "text/plain": [
       "GridSearchCV(cv=3, error_score='raise-deprecating',\n",
       "       estimator=RandomForestRegressor(bootstrap=True, criterion='mse', max_depth=None,\n",
       "           max_features='auto', max_leaf_nodes=None,\n",
       "           min_impurity_decrease=0.0, min_impurity_split=None,\n",
       "           min_samples_leaf=1, min_samples_split=2,\n",
       "           min_weight_fraction_leaf=0.0, n_estimators='warn', n_jobs=None,\n",
       "           oob_score=False, random_state=42, verbose=0, warm_start=False),\n",
       "       fit_params=None, iid='warn', n_jobs=-1,\n",
       "       param_grid={'bootstrap': [True, False], 'max_depth': range(13, 15), 'max_features': range(2, 4), 'min_samples_leaf': range(2, 3), 'min_samples_split': range(2, 4, 2), 'n_estimators': range(80, 90, 5)},\n",
       "       pre_dispatch='2*n_jobs', refit=True, return_train_score='warn',\n",
       "       scoring='r2', verbose=2)"
      ]
     },
     "execution_count": 30,
     "metadata": {},
     "output_type": "execute_result"
    }
   ],
   "source": [
    "grid_search.fit(train.loc[:, features], train['Price'])"
   ]
  },
  {
   "cell_type": "code",
   "execution_count": 31,
   "metadata": {},
   "outputs": [
    {
     "data": {
      "text/plain": [
       "{'bootstrap': False,\n",
       " 'max_depth': 14,\n",
       " 'max_features': 3,\n",
       " 'min_samples_leaf': 2,\n",
       " 'min_samples_split': 2,\n",
       " 'n_estimators': 85}"
      ]
     },
     "execution_count": 31,
     "metadata": {},
     "output_type": "execute_result"
    }
   ],
   "source": [
    "grid_search.best_params_"
   ]
  },
  {
   "cell_type": "code",
   "execution_count": 32,
   "metadata": {},
   "outputs": [
    {
     "data": {
      "text/plain": [
       "0.9159276718934741"
      ]
     },
     "execution_count": 32,
     "metadata": {},
     "output_type": "execute_result"
    }
   ],
   "source": [
    "grid_pred = grid_search.predict(train.loc[:, features])\n",
    "r2_score(train['Price'], grid_pred)"
   ]
  },
  {
   "cell_type": "code",
   "execution_count": 33,
   "metadata": {},
   "outputs": [
    {
     "data": {
      "text/plain": [
       "0.7190712287529892"
      ]
     },
     "execution_count": 33,
     "metadata": {},
     "output_type": "execute_result"
    }
   ],
   "source": [
    "grid_pred_valid = grid_search.predict(valid.loc[:, features])\n",
    "r2_score(valid['Price'], grid_pred_valid)"
   ]
  },
  {
   "cell_type": "markdown",
   "metadata": {},
   "source": [
    "## RandomForestRegressor"
   ]
  },
  {
   "cell_type": "code",
   "execution_count": 34,
   "metadata": {},
   "outputs": [
    {
     "data": {
      "text/plain": [
       "RandomForestRegressor(bootstrap=False, criterion='mse', max_depth=14,\n",
       "           max_features=3, max_leaf_nodes=None, min_impurity_decrease=0.0,\n",
       "           min_impurity_split=None, min_samples_leaf=2,\n",
       "           min_samples_split=2, min_weight_fraction_leaf=0.0,\n",
       "           n_estimators=85, n_jobs=None, oob_score=False, random_state=42,\n",
       "           verbose=0, warm_start=False)"
      ]
     },
     "execution_count": 34,
     "metadata": {},
     "output_type": "execute_result"
    }
   ],
   "source": [
    "rf = grid_search.best_estimator_\n",
    "rf"
   ]
  },
  {
   "cell_type": "code",
   "execution_count": 35,
   "metadata": {},
   "outputs": [
    {
     "data": {
      "text/plain": [
       "RandomForestRegressor(bootstrap=False, criterion='mse', max_depth=14,\n",
       "           max_features=3, max_leaf_nodes=None, min_impurity_decrease=0.0,\n",
       "           min_impurity_split=None, min_samples_leaf=2,\n",
       "           min_samples_split=2, min_weight_fraction_leaf=0.0,\n",
       "           n_estimators=85, n_jobs=None, oob_score=False, random_state=42,\n",
       "           verbose=0, warm_start=False)"
      ]
     },
     "execution_count": 35,
     "metadata": {},
     "output_type": "execute_result"
    }
   ],
   "source": [
    "rf.fit(train.loc[:, features], train['Price'])"
   ]
  },
  {
   "cell_type": "code",
   "execution_count": 36,
   "metadata": {},
   "outputs": [
    {
     "data": {
      "text/plain": [
       "0.9159276718934741"
      ]
     },
     "execution_count": 36,
     "metadata": {},
     "output_type": "execute_result"
    }
   ],
   "source": [
    "rf_pred = rf.predict(train.loc[:, features])\n",
    "r2_score(train['Price'], rf_pred)"
   ]
  },
  {
   "cell_type": "code",
   "execution_count": 37,
   "metadata": {},
   "outputs": [
    {
     "data": {
      "text/plain": [
       "0.7190712287529892"
      ]
     },
     "execution_count": 37,
     "metadata": {},
     "output_type": "execute_result"
    }
   ],
   "source": [
    "rf_pred_valid = rf.predict(valid.loc[:, features])\n",
    "r2_score(valid['Price'], rf_pred_valid)"
   ]
  },
  {
   "cell_type": "code",
   "execution_count": 38,
   "metadata": {},
   "outputs": [],
   "source": [
    "feat_importances = pd.Series(rf.feature_importances_)"
   ]
  },
  {
   "cell_type": "code",
   "execution_count": 39,
   "metadata": {},
   "outputs": [
    {
     "name": "stdout",
     "output_type": "stream",
     "text": [
      "13 0.7240340481805096\n"
     ]
    }
   ],
   "source": [
    "r2_max = 0\n",
    "z_max = 0\n",
    "for z in range(10, 26):\n",
    "    bp = feat_importances.nlargest(z).index.values.tolist()\n",
    "\n",
    "    best_features = []\n",
    "    for i in bp:\n",
    "        best_features.append(features[i])\n",
    "    \n",
    "    rf.fit(train.loc[:, best_features], train['Price'])\n",
    "    \n",
    "    rf_pred_valid = rf.predict(valid.loc[:, best_features])\n",
    "    r2 = r2_score(valid['Price'], rf_pred_valid)\n",
    "    if r2 > r2_max:\n",
    "        r2_max = r2\n",
    "        z_max = z\n",
    "print(z_max, r2_max)"
   ]
  },
  {
   "cell_type": "code",
   "execution_count": 40,
   "metadata": {
    "scrolled": true
   },
   "outputs": [
    {
     "data": {
      "text/plain": [
       "['Square',\n",
       " 'LifeSquare',\n",
       " 'Rooms',\n",
       " 'Social_2',\n",
       " 'Social_1',\n",
       " 'Social_3',\n",
       " 'KitchenSquare',\n",
       " 'MeanRoomSquare',\n",
       " 'HouseYear',\n",
       " 'Ecology_1',\n",
       " 'Shops_1',\n",
       " 'Helthcare_2',\n",
       " 'HouseFloor']"
      ]
     },
     "execution_count": 40,
     "metadata": {},
     "output_type": "execute_result"
    }
   ],
   "source": [
    "bp = feat_importances.nlargest(z_max).index.values.tolist()\n",
    "\n",
    "best_features = []\n",
    "for i in bp:\n",
    "    best_features.append(features[i])\n",
    "best_features"
   ]
  },
  {
   "cell_type": "code",
   "execution_count": 41,
   "metadata": {},
   "outputs": [
    {
     "data": {
      "text/plain": [
       "RandomForestRegressor(bootstrap=False, criterion='mse', max_depth=14,\n",
       "           max_features=3, max_leaf_nodes=None, min_impurity_decrease=0.0,\n",
       "           min_impurity_split=None, min_samples_leaf=2,\n",
       "           min_samples_split=2, min_weight_fraction_leaf=0.0,\n",
       "           n_estimators=85, n_jobs=None, oob_score=False, random_state=42,\n",
       "           verbose=0, warm_start=False)"
      ]
     },
     "execution_count": 41,
     "metadata": {},
     "output_type": "execute_result"
    }
   ],
   "source": [
    "rf.fit(train.loc[:, best_features], train['Price'])"
   ]
  },
  {
   "cell_type": "markdown",
   "metadata": {},
   "source": [
    "## test"
   ]
  },
  {
   "cell_type": "code",
   "execution_count": 42,
   "metadata": {},
   "outputs": [],
   "source": [
    "test = pd.read_csv('data/test.csv')"
   ]
  },
  {
   "cell_type": "code",
   "execution_count": 43,
   "metadata": {},
   "outputs": [],
   "source": [
    "test['LifeSquare'] = test['LifeSquare'].fillna(0)\n",
    "test = pd.get_dummies(test)"
   ]
  },
  {
   "cell_type": "code",
   "execution_count": 44,
   "metadata": {},
   "outputs": [
    {
     "name": "stdout",
     "output_type": "stream",
     "text": [
      "<class 'pandas.core.frame.DataFrame'>\n",
      "RangeIndex: 10000 entries, 0 to 9999\n",
      "Data columns (total 24 columns):\n",
      "Id               10000 non-null int64\n",
      "DistrictId       10000 non-null int64\n",
      "Rooms            10000 non-null float64\n",
      "Square           10000 non-null float64\n",
      "LifeSquare       10000 non-null float64\n",
      "KitchenSquare    10000 non-null float64\n",
      "Floor            10000 non-null int64\n",
      "HouseFloor       10000 non-null float64\n",
      "HouseYear        10000 non-null int64\n",
      "Ecology_1        10000 non-null float64\n",
      "Social_1         10000 non-null int64\n",
      "Social_2         10000 non-null int64\n",
      "Social_3         10000 non-null int64\n",
      "Healthcare_1     5202 non-null float64\n",
      "Helthcare_2      10000 non-null int64\n",
      "Shops_1          10000 non-null int64\n",
      "Price            10000 non-null float64\n",
      "Ecology_2_A      10000 non-null uint8\n",
      "Ecology_2_B      10000 non-null uint8\n",
      "Ecology_3_A      10000 non-null uint8\n",
      "Ecology_3_B      10000 non-null uint8\n",
      "Shops_2_A        10000 non-null uint8\n",
      "Shops_2_B        10000 non-null uint8\n",
      "OldHouse         10000 non-null int32\n",
      "dtypes: float64(8), int32(1), int64(9), uint8(6)\n",
      "memory usage: 1.4 MB\n"
     ]
    }
   ],
   "source": [
    "data.info()"
   ]
  },
  {
   "cell_type": "code",
   "execution_count": 45,
   "metadata": {},
   "outputs": [],
   "source": [
    "test['OldHouse'] = (test['HouseYear'] <= x_year).astype(int)"
   ]
  },
  {
   "cell_type": "code",
   "execution_count": 46,
   "metadata": {},
   "outputs": [],
   "source": [
    "test.loc[(test.LifeSquare < 10), 'LifeSquare'] = \\\n",
    "test.loc[(test.LifeSquare < 10), 'Square'] * k\n",
    "\n",
    "test.loc[(test.Square - test.LifeSquare) < 10, 'LifeSquare'] = \\\n",
    "test.loc[(test.Square - test.LifeSquare) < 10, 'Square'] * k"
   ]
  },
  {
   "cell_type": "code",
   "execution_count": 47,
   "metadata": {},
   "outputs": [
    {
     "data": {
      "text/plain": [
       "array([ 2.,  1.,  3.,  4.,  5.,  6.,  0., 17.])"
      ]
     },
     "execution_count": 47,
     "metadata": {},
     "output_type": "execute_result"
    }
   ],
   "source": [
    "test['Rooms'].unique()"
   ]
  },
  {
   "cell_type": "code",
   "execution_count": 48,
   "metadata": {},
   "outputs": [
    {
     "data": {
      "text/html": [
       "<div>\n",
       "<style scoped>\n",
       "    .dataframe tbody tr th:only-of-type {\n",
       "        vertical-align: middle;\n",
       "    }\n",
       "\n",
       "    .dataframe tbody tr th {\n",
       "        vertical-align: top;\n",
       "    }\n",
       "\n",
       "    .dataframe thead th {\n",
       "        text-align: right;\n",
       "    }\n",
       "</style>\n",
       "<table border=\"1\" class=\"dataframe\">\n",
       "  <thead>\n",
       "    <tr style=\"text-align: right;\">\n",
       "      <th></th>\n",
       "      <th>Id</th>\n",
       "      <th>DistrictId</th>\n",
       "      <th>Rooms</th>\n",
       "      <th>Square</th>\n",
       "      <th>LifeSquare</th>\n",
       "      <th>KitchenSquare</th>\n",
       "      <th>Floor</th>\n",
       "      <th>HouseFloor</th>\n",
       "      <th>HouseYear</th>\n",
       "      <th>Ecology_1</th>\n",
       "      <th>...</th>\n",
       "      <th>Healthcare_1</th>\n",
       "      <th>Helthcare_2</th>\n",
       "      <th>Shops_1</th>\n",
       "      <th>Ecology_2_A</th>\n",
       "      <th>Ecology_2_B</th>\n",
       "      <th>Ecology_3_A</th>\n",
       "      <th>Ecology_3_B</th>\n",
       "      <th>Shops_2_A</th>\n",
       "      <th>Shops_2_B</th>\n",
       "      <th>OldHouse</th>\n",
       "    </tr>\n",
       "  </thead>\n",
       "  <tbody>\n",
       "    <tr>\n",
       "      <th>2406</th>\n",
       "      <td>3343</td>\n",
       "      <td>58</td>\n",
       "      <td>0.0</td>\n",
       "      <td>116.824201</td>\n",
       "      <td>81.287360</td>\n",
       "      <td>0.0</td>\n",
       "      <td>3</td>\n",
       "      <td>3.0</td>\n",
       "      <td>1977</td>\n",
       "      <td>0.437885</td>\n",
       "      <td>...</td>\n",
       "      <td>1084.0</td>\n",
       "      <td>0</td>\n",
       "      <td>5</td>\n",
       "      <td>0</td>\n",
       "      <td>1</td>\n",
       "      <td>0</td>\n",
       "      <td>1</td>\n",
       "      <td>0</td>\n",
       "      <td>1</td>\n",
       "      <td>0</td>\n",
       "    </tr>\n",
       "    <tr>\n",
       "      <th>2524</th>\n",
       "      <td>10729</td>\n",
       "      <td>27</td>\n",
       "      <td>0.0</td>\n",
       "      <td>76.345154</td>\n",
       "      <td>42.820796</td>\n",
       "      <td>12.0</td>\n",
       "      <td>14</td>\n",
       "      <td>0.0</td>\n",
       "      <td>1977</td>\n",
       "      <td>0.017647</td>\n",
       "      <td>...</td>\n",
       "      <td>NaN</td>\n",
       "      <td>0</td>\n",
       "      <td>0</td>\n",
       "      <td>0</td>\n",
       "      <td>1</td>\n",
       "      <td>0</td>\n",
       "      <td>1</td>\n",
       "      <td>0</td>\n",
       "      <td>1</td>\n",
       "      <td>0</td>\n",
       "    </tr>\n",
       "  </tbody>\n",
       "</table>\n",
       "<p>2 rows × 23 columns</p>\n",
       "</div>"
      ],
      "text/plain": [
       "         Id  DistrictId  Rooms      Square  LifeSquare  KitchenSquare  Floor  \\\n",
       "2406   3343          58    0.0  116.824201   81.287360            0.0      3   \n",
       "2524  10729          27    0.0   76.345154   42.820796           12.0     14   \n",
       "\n",
       "      HouseFloor  HouseYear  Ecology_1  ...  Healthcare_1  Helthcare_2  \\\n",
       "2406         3.0       1977   0.437885  ...        1084.0            0   \n",
       "2524         0.0       1977   0.017647  ...           NaN            0   \n",
       "\n",
       "      Shops_1  Ecology_2_A  Ecology_2_B  Ecology_3_A  Ecology_3_B  Shops_2_A  \\\n",
       "2406        5            0            1            0            1          0   \n",
       "2524        0            0            1            0            1          0   \n",
       "\n",
       "      Shops_2_B  OldHouse  \n",
       "2406          1         0  \n",
       "2524          1         0  \n",
       "\n",
       "[2 rows x 23 columns]"
      ]
     },
     "execution_count": 48,
     "metadata": {},
     "output_type": "execute_result"
    }
   ],
   "source": [
    "test.loc[test['Rooms'] == 0, :]"
   ]
  },
  {
   "cell_type": "code",
   "execution_count": 49,
   "metadata": {},
   "outputs": [],
   "source": [
    "test.loc[test['Id'] == 3343, 'Rooms'] = 3\n",
    "test.loc[test['Id'] == 10729, 'Rooms'] = 2"
   ]
  },
  {
   "cell_type": "code",
   "execution_count": 50,
   "metadata": {},
   "outputs": [
    {
     "data": {
      "text/html": [
       "<div>\n",
       "<style scoped>\n",
       "    .dataframe tbody tr th:only-of-type {\n",
       "        vertical-align: middle;\n",
       "    }\n",
       "\n",
       "    .dataframe tbody tr th {\n",
       "        vertical-align: top;\n",
       "    }\n",
       "\n",
       "    .dataframe thead th {\n",
       "        text-align: right;\n",
       "    }\n",
       "</style>\n",
       "<table border=\"1\" class=\"dataframe\">\n",
       "  <thead>\n",
       "    <tr style=\"text-align: right;\">\n",
       "      <th></th>\n",
       "      <th>Id</th>\n",
       "      <th>DistrictId</th>\n",
       "      <th>Rooms</th>\n",
       "      <th>Square</th>\n",
       "      <th>LifeSquare</th>\n",
       "      <th>KitchenSquare</th>\n",
       "      <th>Floor</th>\n",
       "      <th>HouseFloor</th>\n",
       "      <th>HouseYear</th>\n",
       "      <th>Ecology_1</th>\n",
       "      <th>...</th>\n",
       "      <th>Healthcare_1</th>\n",
       "      <th>Helthcare_2</th>\n",
       "      <th>Shops_1</th>\n",
       "      <th>Ecology_2_A</th>\n",
       "      <th>Ecology_2_B</th>\n",
       "      <th>Ecology_3_A</th>\n",
       "      <th>Ecology_3_B</th>\n",
       "      <th>Shops_2_A</th>\n",
       "      <th>Shops_2_B</th>\n",
       "      <th>OldHouse</th>\n",
       "    </tr>\n",
       "  </thead>\n",
       "  <tbody>\n",
       "    <tr>\n",
       "      <th>3398</th>\n",
       "      <td>1435</td>\n",
       "      <td>111</td>\n",
       "      <td>17.0</td>\n",
       "      <td>52.866107</td>\n",
       "      <td>32.528342</td>\n",
       "      <td>8.0</td>\n",
       "      <td>15</td>\n",
       "      <td>17.0</td>\n",
       "      <td>1987</td>\n",
       "      <td>0.093443</td>\n",
       "      <td>...</td>\n",
       "      <td>3300.0</td>\n",
       "      <td>2</td>\n",
       "      <td>4</td>\n",
       "      <td>0</td>\n",
       "      <td>1</td>\n",
       "      <td>0</td>\n",
       "      <td>1</td>\n",
       "      <td>0</td>\n",
       "      <td>1</td>\n",
       "      <td>0</td>\n",
       "    </tr>\n",
       "  </tbody>\n",
       "</table>\n",
       "<p>1 rows × 23 columns</p>\n",
       "</div>"
      ],
      "text/plain": [
       "        Id  DistrictId  Rooms     Square  LifeSquare  KitchenSquare  Floor  \\\n",
       "3398  1435         111   17.0  52.866107   32.528342            8.0     15   \n",
       "\n",
       "      HouseFloor  HouseYear  Ecology_1  ...  Healthcare_1  Helthcare_2  \\\n",
       "3398        17.0       1987   0.093443  ...        3300.0            2   \n",
       "\n",
       "      Shops_1  Ecology_2_A  Ecology_2_B  Ecology_3_A  Ecology_3_B  Shops_2_A  \\\n",
       "3398        4            0            1            0            1          0   \n",
       "\n",
       "      Shops_2_B  OldHouse  \n",
       "3398          1         0  \n",
       "\n",
       "[1 rows x 23 columns]"
      ]
     },
     "execution_count": 50,
     "metadata": {},
     "output_type": "execute_result"
    }
   ],
   "source": [
    "test.loc[test['Rooms'] > 6, :]"
   ]
  },
  {
   "cell_type": "code",
   "execution_count": 51,
   "metadata": {},
   "outputs": [],
   "source": [
    "test.loc[test['Id'] == 1435, 'Rooms'] = 2"
   ]
  },
  {
   "cell_type": "code",
   "execution_count": 52,
   "metadata": {},
   "outputs": [],
   "source": [
    "test['MeanRoomSquare'] = test.LifeSquare / test.Rooms\n",
    "\n",
    "test.loc[(test['KitchenSquare'] > 30), 'KitchenSquare'] = test.loc[(test['KitchenSquare'] > 30), 'Square'] * 0.11\n",
    "\n",
    "test.loc[(test['KitchenSquare'] < 4), 'KitchenSquare'] = test.loc[(test['KitchenSquare'] < 4), 'Square'] * 0.11\n",
    "\n",
    "test.loc[(test['KitchenSquare'] > (test['Square'] - test['LifeSquare'])), 'LifeSquare'] = \\\n",
    "test.loc[(test['KitchenSquare'] > (test['Square'] - test['LifeSquare'])), 'Square'] * 0.11"
   ]
  },
  {
   "cell_type": "code",
   "execution_count": 53,
   "metadata": {},
   "outputs": [
    {
     "data": {
      "text/plain": [
       "array([159339.00038684, 217423.99133177, 199592.18934559, ...,\n",
       "       320790.38231425, 205662.30381012, 175253.61833374])"
      ]
     },
     "execution_count": 53,
     "metadata": {},
     "output_type": "execute_result"
    }
   ],
   "source": [
    "pred_test = rf.predict(test.loc[:, best_features])\n",
    "pred_test"
   ]
  },
  {
   "cell_type": "code",
   "execution_count": 54,
   "metadata": {},
   "outputs": [
    {
     "data": {
      "text/html": [
       "<div>\n",
       "<style scoped>\n",
       "    .dataframe tbody tr th:only-of-type {\n",
       "        vertical-align: middle;\n",
       "    }\n",
       "\n",
       "    .dataframe tbody tr th {\n",
       "        vertical-align: top;\n",
       "    }\n",
       "\n",
       "    .dataframe thead th {\n",
       "        text-align: right;\n",
       "    }\n",
       "</style>\n",
       "<table border=\"1\" class=\"dataframe\">\n",
       "  <thead>\n",
       "    <tr style=\"text-align: right;\">\n",
       "      <th></th>\n",
       "      <th>Id</th>\n",
       "      <th>DistrictId</th>\n",
       "      <th>Rooms</th>\n",
       "      <th>Square</th>\n",
       "      <th>LifeSquare</th>\n",
       "      <th>KitchenSquare</th>\n",
       "      <th>Floor</th>\n",
       "      <th>HouseFloor</th>\n",
       "      <th>HouseYear</th>\n",
       "      <th>Ecology_1</th>\n",
       "      <th>...</th>\n",
       "      <th>Shops_1</th>\n",
       "      <th>Ecology_2_A</th>\n",
       "      <th>Ecology_2_B</th>\n",
       "      <th>Ecology_3_A</th>\n",
       "      <th>Ecology_3_B</th>\n",
       "      <th>Shops_2_A</th>\n",
       "      <th>Shops_2_B</th>\n",
       "      <th>OldHouse</th>\n",
       "      <th>MeanRoomSquare</th>\n",
       "      <th>Price</th>\n",
       "    </tr>\n",
       "  </thead>\n",
       "  <tbody>\n",
       "    <tr>\n",
       "      <th>0</th>\n",
       "      <td>725</td>\n",
       "      <td>58</td>\n",
       "      <td>2.0</td>\n",
       "      <td>49.882643</td>\n",
       "      <td>33.432782</td>\n",
       "      <td>6.000000</td>\n",
       "      <td>6</td>\n",
       "      <td>14.0</td>\n",
       "      <td>1972</td>\n",
       "      <td>0.310199</td>\n",
       "      <td>...</td>\n",
       "      <td>0</td>\n",
       "      <td>0</td>\n",
       "      <td>1</td>\n",
       "      <td>0</td>\n",
       "      <td>1</td>\n",
       "      <td>0</td>\n",
       "      <td>1</td>\n",
       "      <td>0</td>\n",
       "      <td>16.716391</td>\n",
       "      <td>159339.000387</td>\n",
       "    </tr>\n",
       "    <tr>\n",
       "      <th>1</th>\n",
       "      <td>15856</td>\n",
       "      <td>74</td>\n",
       "      <td>2.0</td>\n",
       "      <td>69.263183</td>\n",
       "      <td>48.193964</td>\n",
       "      <td>7.618950</td>\n",
       "      <td>6</td>\n",
       "      <td>1.0</td>\n",
       "      <td>1977</td>\n",
       "      <td>0.075779</td>\n",
       "      <td>...</td>\n",
       "      <td>2</td>\n",
       "      <td>0</td>\n",
       "      <td>1</td>\n",
       "      <td>0</td>\n",
       "      <td>1</td>\n",
       "      <td>0</td>\n",
       "      <td>1</td>\n",
       "      <td>0</td>\n",
       "      <td>24.096982</td>\n",
       "      <td>217423.991332</td>\n",
       "    </tr>\n",
       "    <tr>\n",
       "      <th>2</th>\n",
       "      <td>5480</td>\n",
       "      <td>190</td>\n",
       "      <td>1.0</td>\n",
       "      <td>13.597819</td>\n",
       "      <td>1.495760</td>\n",
       "      <td>12.000000</td>\n",
       "      <td>2</td>\n",
       "      <td>5.0</td>\n",
       "      <td>1909</td>\n",
       "      <td>0.000000</td>\n",
       "      <td>...</td>\n",
       "      <td>5</td>\n",
       "      <td>0</td>\n",
       "      <td>1</td>\n",
       "      <td>0</td>\n",
       "      <td>1</td>\n",
       "      <td>0</td>\n",
       "      <td>1</td>\n",
       "      <td>1</td>\n",
       "      <td>9.461488</td>\n",
       "      <td>199592.189346</td>\n",
       "    </tr>\n",
       "    <tr>\n",
       "      <th>3</th>\n",
       "      <td>15664</td>\n",
       "      <td>47</td>\n",
       "      <td>2.0</td>\n",
       "      <td>73.046609</td>\n",
       "      <td>51.940842</td>\n",
       "      <td>9.000000</td>\n",
       "      <td>22</td>\n",
       "      <td>22.0</td>\n",
       "      <td>2007</td>\n",
       "      <td>0.101872</td>\n",
       "      <td>...</td>\n",
       "      <td>3</td>\n",
       "      <td>0</td>\n",
       "      <td>1</td>\n",
       "      <td>0</td>\n",
       "      <td>1</td>\n",
       "      <td>0</td>\n",
       "      <td>1</td>\n",
       "      <td>0</td>\n",
       "      <td>25.970421</td>\n",
       "      <td>357391.522295</td>\n",
       "    </tr>\n",
       "    <tr>\n",
       "      <th>4</th>\n",
       "      <td>14275</td>\n",
       "      <td>27</td>\n",
       "      <td>1.0</td>\n",
       "      <td>47.527111</td>\n",
       "      <td>33.069803</td>\n",
       "      <td>5.227982</td>\n",
       "      <td>17</td>\n",
       "      <td>17.0</td>\n",
       "      <td>2017</td>\n",
       "      <td>0.072158</td>\n",
       "      <td>...</td>\n",
       "      <td>0</td>\n",
       "      <td>0</td>\n",
       "      <td>1</td>\n",
       "      <td>0</td>\n",
       "      <td>1</td>\n",
       "      <td>1</td>\n",
       "      <td>0</td>\n",
       "      <td>0</td>\n",
       "      <td>33.069803</td>\n",
       "      <td>131411.761233</td>\n",
       "    </tr>\n",
       "  </tbody>\n",
       "</table>\n",
       "<p>5 rows × 25 columns</p>\n",
       "</div>"
      ],
      "text/plain": [
       "      Id  DistrictId  Rooms     Square  LifeSquare  KitchenSquare  Floor  \\\n",
       "0    725          58    2.0  49.882643   33.432782       6.000000      6   \n",
       "1  15856          74    2.0  69.263183   48.193964       7.618950      6   \n",
       "2   5480         190    1.0  13.597819    1.495760      12.000000      2   \n",
       "3  15664          47    2.0  73.046609   51.940842       9.000000     22   \n",
       "4  14275          27    1.0  47.527111   33.069803       5.227982     17   \n",
       "\n",
       "   HouseFloor  HouseYear  Ecology_1  ...  Shops_1  Ecology_2_A  Ecology_2_B  \\\n",
       "0        14.0       1972   0.310199  ...        0            0            1   \n",
       "1         1.0       1977   0.075779  ...        2            0            1   \n",
       "2         5.0       1909   0.000000  ...        5            0            1   \n",
       "3        22.0       2007   0.101872  ...        3            0            1   \n",
       "4        17.0       2017   0.072158  ...        0            0            1   \n",
       "\n",
       "   Ecology_3_A  Ecology_3_B  Shops_2_A  Shops_2_B  OldHouse  MeanRoomSquare  \\\n",
       "0            0            1          0          1         0       16.716391   \n",
       "1            0            1          0          1         0       24.096982   \n",
       "2            0            1          0          1         1        9.461488   \n",
       "3            0            1          0          1         0       25.970421   \n",
       "4            0            1          1          0         0       33.069803   \n",
       "\n",
       "           Price  \n",
       "0  159339.000387  \n",
       "1  217423.991332  \n",
       "2  199592.189346  \n",
       "3  357391.522295  \n",
       "4  131411.761233  \n",
       "\n",
       "[5 rows x 25 columns]"
      ]
     },
     "execution_count": 54,
     "metadata": {},
     "output_type": "execute_result"
    }
   ],
   "source": [
    "test['Price'] = pred_test\n",
    "test.head()"
   ]
  },
  {
   "cell_type": "code",
   "execution_count": 55,
   "metadata": {},
   "outputs": [
    {
     "data": {
      "text/plain": [
       "(5000, 25)"
      ]
     },
     "execution_count": 55,
     "metadata": {},
     "output_type": "execute_result"
    }
   ],
   "source": [
    "test.shape"
   ]
  },
  {
   "cell_type": "code",
   "execution_count": 56,
   "metadata": {},
   "outputs": [],
   "source": [
    "test.loc[:, ['Id', 'Price']].to_csv('IPashkov_predictions.csv', index=None)"
   ]
  }
 ],
 "metadata": {
  "kernelspec": {
   "display_name": "Python 3",
   "language": "python",
   "name": "python3"
  },
  "language_info": {
   "codemirror_mode": {
    "name": "ipython",
    "version": 3
   },
   "file_extension": ".py",
   "mimetype": "text/x-python",
   "name": "python",
   "nbconvert_exporter": "python",
   "pygments_lexer": "ipython3",
   "version": "3.7.3"
  }
 },
 "nbformat": 4,
 "nbformat_minor": 2
}
